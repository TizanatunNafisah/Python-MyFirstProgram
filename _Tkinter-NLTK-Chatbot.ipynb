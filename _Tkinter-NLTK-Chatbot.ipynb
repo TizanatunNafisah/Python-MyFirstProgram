{
 "cells": [
  {
   "cell_type": "code",
   "execution_count": 2,
   "id": "60435f0f",
   "metadata": {},
   "outputs": [
    {
     "name": "stderr",
     "output_type": "stream",
     "text": [
      "Exception in Tkinter callback\n",
      "Traceback (most recent call last):\n",
      "  File \"C:\\Users\\User\\anaconda3\\lib\\tkinter\\__init__.py\", line 1892, in __call__\n",
      "    return self.func(*args)\n",
      "  File \"C:\\Users\\User\\AppData\\Local\\Temp\\ipykernel_5572\\231928999.py\", line 52, in send_msz\n",
      "    lab = f\"Bot: {chatbot_response(usr_input)}\"+'\\n'\n",
      "NameError: name 'chatbot_response' is not defined\n",
      "Exception in Tkinter callback\n",
      "Traceback (most recent call last):\n",
      "  File \"C:\\Users\\User\\anaconda3\\lib\\tkinter\\__init__.py\", line 1892, in __call__\n",
      "    return self.func(*args)\n",
      "  File \"C:\\Users\\User\\AppData\\Local\\Temp\\ipykernel_5572\\231928999.py\", line 52, in send_msz\n",
      "    lab = f\"Bot: {chatbot_response(usr_input)}\"+'\\n'\n",
      "NameError: name 'chatbot_response' is not defined\n"
     ]
    }
   ],
   "source": [
    "import random\n",
    "import tkinter as tk\n",
    "from tkinter import *\n",
    "\n",
    "root=tk.Tk()\n",
    "filename=\"Chat Bot\"\n",
    "root.title(f\"Chat Bot\")\n",
    "root.geometry('500x400')\n",
    "root.resizable(False, False)\n",
    "message=tk.StringVar()\n",
    "\n",
    "chat_win=Frame(root,bd=1,bg='white',width=50,height=8)\n",
    "chat_win.place(x=6,y=6,height=300,width=488)\n",
    "\n",
    "textcon=tk.Text(chat_win,bd=1,bg='white',width=50,height=8)\n",
    "textcon.pack(fill=\"both\",expand=True)\n",
    "\n",
    "mes_win=Entry(root,width=30,xscrollcommand=True,textvariable=message)\n",
    "mes_win.place(x=6,y=310,height=60,width=380)\n",
    "mes_win.focus()\n",
    "\n",
    "textcon.config(fg='black')\n",
    "textcon.tag_config('usr',foreground='black')\n",
    "textcon.insert(END,\"Bot: This is Sophie! Your Personal Assistant.\\n\\n\")\n",
    "mssg=mes_win.get()\n",
    "\n",
    "exit_list = ['exit','break','quit','see you later','chat with you later','end the chat','bye','ok bye']\n",
    "\n",
    "def greet_res(text):\n",
    "    text=text.lower()\n",
    "    bot_greet=['hi','hello','hola','hey','howdy']\n",
    "    usr_greet=['hi','hey','hello','hola','greetings','wassup','whats up']\n",
    "    for word in text.split():\n",
    "        if word in usr_greet:\n",
    "            return random.choice(bot_greet)\n",
    "\n",
    "def send_msz(event=None):\n",
    "    usr_input = message.get()\n",
    "    usr_input = usr_input.lower()\n",
    "    textcon.insert(END, f'You: {usr_input}'+'\\n','usr')\n",
    "    if usr_input in exit_list:\n",
    "        textcon.config(fg='black')\n",
    "        textcon.insert(END,\"Bot: Ok bye! Chat with you later\\n\")\n",
    "        return root.destroy()\n",
    "    else:\n",
    "        textcon.config(fg='black')\n",
    "        if greet_res(usr_input) != None:\n",
    "            lab=f\"Bot: {greet_res(usr_input)}\"+'\\n'\n",
    "            textcon.insert(END,lab)\n",
    "            mes_win.delete(0,END)\n",
    "        else:\n",
    "            lab = f\"Bot: {chatbot_response(usr_input)}\"+'\\n'\n",
    "            textcon.insert(END,lab)\n",
    "            mes_win.delete(0,END)\n",
    "\n",
    "button_send=Button(root,text='Send',bg='dark green',activebackground='grey',command=send_msz,width=12,height=5,font=('Arial'))\n",
    "button_send.place(x=376,y=310,height=60,width=110)\n",
    "root.bind('<Return>', send_msz,button_send)\n",
    "root.mainloop()"
   ]
  },
  {
   "cell_type": "code",
   "execution_count": null,
   "id": "90bac9c2",
   "metadata": {},
   "outputs": [],
   "source": []
  }
 ],
 "metadata": {
  "kernelspec": {
   "display_name": "Python 3 (ipykernel)",
   "language": "python",
   "name": "python3"
  },
  "language_info": {
   "codemirror_mode": {
    "name": "ipython",
    "version": 3
   },
   "file_extension": ".py",
   "mimetype": "text/x-python",
   "name": "python",
   "nbconvert_exporter": "python",
   "pygments_lexer": "ipython3",
   "version": "3.9.12"
  }
 },
 "nbformat": 4,
 "nbformat_minor": 5
}
