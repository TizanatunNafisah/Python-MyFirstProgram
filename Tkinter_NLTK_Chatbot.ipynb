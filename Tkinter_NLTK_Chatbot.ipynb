{
  "cells": [
    {
      "cell_type": "markdown",
      "metadata": {
        "id": "view-in-github",
        "colab_type": "text"
      },
      "source": [
        "<a href=\"https://colab.research.google.com/github/TizanatunNafisah/Python-MyFirstProgram/blob/main/Tkinter_NLTK_Chatbot.ipynb\" target=\"_parent\"><img src=\"https://colab.research.google.com/assets/colab-badge.svg\" alt=\"Open In Colab\"/></a>"
      ]
    },
    {
      "cell_type": "markdown",
      "metadata": {
        "id": "4TjZlMWWshk7"
      },
      "source": [
        "#### Website: https://pykit.org                                                                                                                                      \n",
        "#### Mail: info@pykit.org\n",
        "\n",
        "---\n",
        "\n",
        "#### About Pykit\n",
        "Pykit is a free online analytics resource website. pykit was founded in 2021 by [Vishal Verma](https://www.linkedin.com/in/vishalverma2701/). The main goal of this site is to provide quality tools, tutorials, courses, and other online resources that allow anyone to master Data Research & Analytics based on real case studies and industry projects.\n",
        "\n",
        "---\n",
        "#### [GitHub Link](https://github.com/vishal-verma27/Tkinter-NLTK-Chatbot)\n",
        "#### [Author Portfolio](https://eportfolio.mygreatlearning.com/vishal-verma2)"
      ]
    },
    {
      "cell_type": "markdown",
      "source": [
        "Mount Google Drive to store the required files and clone the Github repository."
      ],
      "metadata": {
        "id": "9k7a9_pxuL9-"
      }
    },
    {
      "cell_type": "code",
      "source": [
        "from google.colab import drive\n",
        "drive.mount('/content/drive')"
      ],
      "metadata": {
        "colab": {
          "base_uri": "https://localhost:8080/"
        },
        "id": "bVFYiSaluK9y",
        "outputId": "bad30d3a-0fd8-4dac-9a82-724066f5fcad"
      },
      "execution_count": null,
      "outputs": [
        {
          "output_type": "stream",
          "name": "stdout",
          "text": [
            "Drive already mounted at /content/drive; to attempt to forcibly remount, call drive.mount(\"/content/drive\", force_remount=True).\n"
          ]
        }
      ]
    },
    {
      "cell_type": "code",
      "source": [],
      "metadata": {
        "id": "aBv3Lkhem6pe"
      },
      "execution_count": null,
      "outputs": []
    },
    {
      "cell_type": "markdown",
      "source": [
        "Create an \"Empty Folder\" in your google drive and change the path below.\n",
        "\n",
        "In my case, I have create a folder named 'Tkinter-NLTK-Chatbot' under \"drive/MyDrive\""
      ],
      "metadata": {
        "id": "_znRwhXsukaq"
      }
    },
    {
      "cell_type": "code",
      "source": [
        "%cd /content/drive/MyDrive/Tkinter-NLTK-Chatbot"
      ],
      "metadata": {
        "colab": {
          "base_uri": "https://localhost:8080/"
        },
        "id": "Tou4Sa6buytu",
        "outputId": "78808ef0-f493-46a6-edba-e983dbbb944b"
      },
      "execution_count": null,
      "outputs": [
        {
          "output_type": "stream",
          "name": "stdout",
          "text": [
            "/content/drive/MyDrive/Tkinter-NLTK-Chatbot\n"
          ]
        }
      ]
    },
    {
      "cell_type": "markdown",
      "source": [
        "Clone the Github Repository to google drive and set the default working directory to Tkinter-NLTK-Chatbot"
      ],
      "metadata": {
        "id": "_pucP_n0vdvp"
      }
    },
    {
      "cell_type": "code",
      "source": [
        "! git clone https://github.com/vishal-verma27/Tkinter-NLTK-Chatbot.git"
      ],
      "metadata": {
        "colab": {
          "base_uri": "https://localhost:8080/"
        },
        "id": "q13-14fBvchz",
        "outputId": "340bff68-4c71-4980-a5c5-db22b068bbb2"
      },
      "execution_count": null,
      "outputs": [
        {
          "output_type": "stream",
          "name": "stdout",
          "text": [
            "Cloning into 'Tkinter-NLTK-Chatbot'...\n",
            "remote: Enumerating objects: 29, done.\u001b[K\n",
            "remote: Counting objects: 100% (29/29), done.\u001b[K\n",
            "remote: Compressing objects: 100% (29/29), done.\u001b[K\n",
            "remote: Total 29 (delta 11), reused 0 (delta 0), pack-reused 0\u001b[K\n",
            "Unpacking objects: 100% (29/29), done.\n"
          ]
        }
      ]
    },
    {
      "cell_type": "code",
      "source": [
        "%cd /content/drive/MyDrive/Tkinter-NLTK-Chatbot/Tkinter-NLTK-Chatbot"
      ],
      "metadata": {
        "colab": {
          "base_uri": "https://localhost:8080/"
        },
        "id": "04QYdSg6wMEx",
        "outputId": "26aeb671-971a-41c9-a8b4-f2970bab7d54"
      },
      "execution_count": null,
      "outputs": [
        {
          "output_type": "stream",
          "name": "stdout",
          "text": [
            "/content/drive/MyDrive/Tkinter-NLTK-Chatbot/Tkinter-NLTK-Chatbot\n"
          ]
        }
      ]
    },
    {
      "cell_type": "markdown",
      "source": [
        "Run this code to update the changes in Github Repository to our drive."
      ],
      "metadata": {
        "id": "zMv5lGrmwjKp"
      }
    },
    {
      "cell_type": "code",
      "source": [
        "!git pull"
      ],
      "metadata": {
        "colab": {
          "base_uri": "https://localhost:8080/"
        },
        "id": "tX9b8L5swh_Z",
        "outputId": "299ee2ac-f486-4ef9-8542-3e82c012bf9e"
      },
      "execution_count": null,
      "outputs": [
        {
          "output_type": "stream",
          "name": "stdout",
          "text": [
            "Already up to date.\n"
          ]
        }
      ]
    },
    {
      "cell_type": "markdown",
      "metadata": {
        "id": "vixmopIVshk8"
      },
      "source": [
        "### Importing Libraries"
      ]
    },
    {
      "cell_type": "code",
      "execution_count": null,
      "metadata": {
        "id": "wj8edLPwshk9"
      },
      "outputs": [],
      "source": [
        "# import necessary libraries\n",
        "import warnings\n",
        "warnings.filterwarnings(\"ignore\")\n",
        "import nltk\n",
        "from nltk.stem import WordNetLemmatizer\n",
        "import json\n",
        "import pickle\n",
        "\n",
        "import numpy as np\n",
        "from tensorflow.keras.models import Sequential\n",
        "from tensorflow.keras.layers import Dense, Activation, Dropout\n",
        "from tensorflow.keras.optimizers import SGD\n",
        "import random\n",
        "from keras.models import load_model\n",
        "\n",
        "# create an object of WordNetLemmatizer\n",
        "lemmatizer = WordNetLemmatizer()\n",
        "\n",
        "# importing the GL Bot corpus file for pre-processing\n",
        "\n",
        "words=[]\n",
        "classes = []\n",
        "documents = []\n",
        "ignore_words = ['?', '!']\n",
        "data_file = open(\"Train_Bot.json\").read()\n",
        "intents = json.loads(data_file)"
      ]
    },
    {
      "cell_type": "markdown",
      "metadata": {
        "id": "6MItt3kYshk-"
      },
      "source": [
        "### Data Pre-Processing"
      ]
    },
    {
      "cell_type": "code",
      "execution_count": null,
      "metadata": {
        "colab": {
          "base_uri": "https://localhost:8080/"
        },
        "id": "Iw-nNla4shk-",
        "outputId": "b6a3d654-e24e-428c-d935-0bee261f8f52"
      },
      "outputs": [
        {
          "output_type": "stream",
          "name": "stderr",
          "text": [
            "[nltk_data] Downloading package punkt to /root/nltk_data...\n",
            "[nltk_data]   Package punkt is already up-to-date!\n",
            "[nltk_data] Downloading package wordnet to /root/nltk_data...\n",
            "[nltk_data]   Package wordnet is already up-to-date!\n"
          ]
        }
      ],
      "source": [
        "# preprocessing the json data\n",
        "# tokenization\n",
        "nltk.download('punkt')\n",
        "nltk.download('wordnet')\n",
        "for intent in intents['intents']:\n",
        "    for pattern in intent['patterns']:\n",
        "\n",
        "        #tokenize each word\n",
        "        w = nltk.word_tokenize(pattern)\n",
        "        words.extend(w)\n",
        "        #add documents in the corpus\n",
        "        documents.append((w, intent['tag']))\n",
        "\n",
        "        # add to our classes list\n",
        "        if intent['tag'] not in classes:\n",
        "            classes.append(intent['tag'])"
      ]
    },
    {
      "cell_type": "code",
      "source": [
        "import nltk\n",
        "nltk.download('omw-1.4')"
      ],
      "metadata": {
        "colab": {
          "base_uri": "https://localhost:8080/"
        },
        "id": "_u4voyPRr4Kg",
        "outputId": "aeacdb12-37a6-4faa-8863-e50ad4445082"
      },
      "execution_count": null,
      "outputs": [
        {
          "output_type": "stream",
          "name": "stderr",
          "text": [
            "[nltk_data] Downloading package omw-1.4 to /root/nltk_data...\n"
          ]
        },
        {
          "output_type": "execute_result",
          "data": {
            "text/plain": [
              "True"
            ]
          },
          "metadata": {},
          "execution_count": 18
        }
      ]
    },
    {
      "cell_type": "code",
      "execution_count": null,
      "metadata": {
        "colab": {
          "base_uri": "https://localhost:8080/"
        },
        "id": "-BMx_zKyshk_",
        "outputId": "a2d00490-f5e9-400d-ed42-97bc61204da8"
      },
      "outputs": [
        {
          "output_type": "stream",
          "name": "stdout",
          "text": [
            "128 documents\n",
            "8 classes ['Bot', 'Exit', 'Intro', 'NN', 'Olympus', 'Profane', 'SL', 'Ticket']\n",
            "158 unique lemmatized words ['a', 'able', 'access', 'activation', 'ada', 'adam', 'aifl', 'aiml', 'am', 'an', 'ann', 'anyone', 'are', 'artificial', 'backward', 'bad', 'bagging', 'batch', 'bayes', 'belong', 'best', 'blended', 'bloody', 'boosting', 'bot', 'buddy', 'classification', 'contact', 'create', 'cross', 'cya', 'day', 'deep', 'did', 'diffult', 'do', 'ensemble', 'epoch', 'explain', 'first', 'for', 'forest', 'forward', 'from', 'function', 'good', 'goodbye', 'gradient', 'great', 'hate', 'have', 'hell', 'hello', 'help', 'helped', 'hey', 'hi', 'hidden', 'hour', 'how', 'hyper', 'i', 'imputer', 'in', 'intelligence', 'is', 'jerk', 'joke', 'knn', 'later', 'layer', 'learner', 'learning', 'leaving', 'link', 'listen', 'logistic', 'lot', 'machine', 'me', 'ml', 'my', 'naive', 'name', 'nb', 'net', 'network', 'neural', 'no', 'not', 'of', 'olympus', 'olypus', 'on', 'online', 'operation', 'opertions', 'otimizer', 'parameter', 'piece', 'please', 'pm', 'problem', 'propagation', 'random', 'regression', 'relu', 'screw', 'see', 'sgd', 'shit', 'sigmoid', 'sl', 'smart', 'softmax', 'solution', 'solved', 'stupid', 'supervised', 'svm', 'talking', 'teach', 'techb=niques', 'technique', 'thank', 'thanks', 'the', 'there', 'think', 'ticket', 'time', 'to', 'ton', 'too', 'tool', 'unable', 'understand', 'up', 'use', 'useless', 'validation', 'very', 'visible', 'wasted', 'weight', 'what', 'whats', 'when', 'who', 'whom', 'window', 'with', 'work', 'working', 'ya', 'yo', 'you', 'your']\n"
          ]
        }
      ],
      "source": [
        "# lemmatize, lower each word and remove duplicates\n",
        "\n",
        "words = [lemmatizer.lemmatize(w.lower()) for w in words if w not in ignore_words]\n",
        "words = sorted(list(set(words)))\n",
        "\n",
        "# sort classes\n",
        "classes = sorted(list(set(classes)))\n",
        "\n",
        "# documents = combination between patterns and intents\n",
        "print (len(documents), \"documents\")\n",
        "\n",
        "# classes = intents\n",
        "print (len(classes), \"classes\", classes)\n",
        "\n",
        "# words = all words, vocabulary\n",
        "print (len(words), \"unique lemmatized words\", words)\n",
        "\n",
        "# creating a pickle file to store the Python objects which we will use while predicting\n",
        "pickle.dump(words,open('words.pkl','wb')) \n",
        "pickle.dump(classes,open('classes.pkl','wb'))"
      ]
    },
    {
      "cell_type": "markdown",
      "metadata": {
        "id": "XR-oqJ0wshlA"
      },
      "source": [
        "### Creating Training Data"
      ]
    },
    {
      "cell_type": "code",
      "execution_count": null,
      "metadata": {
        "colab": {
          "base_uri": "https://localhost:8080/"
        },
        "id": "LoM-44d9shlA",
        "outputId": "aa30aebc-b423-4b13-e6bd-c1a7e4af7d50"
      },
      "outputs": [
        {
          "output_type": "stream",
          "name": "stdout",
          "text": [
            "Training data created\n"
          ]
        }
      ],
      "source": [
        "# create our training data\n",
        "training = []\n",
        "\n",
        "# create an empty array for our output\n",
        "output_empty = [0] * len(classes)\n",
        "\n",
        "# training set, bag of words for each sentence\n",
        "for doc in documents:\n",
        "    # initialize our bag of words\n",
        "    bag = []\n",
        "    # list of tokenized words for the pattern\n",
        "    pattern_words = doc[0]\n",
        "   \n",
        "    # lemmatize each word - create base word, in attempt to represent related words\n",
        "    pattern_words = [lemmatizer.lemmatize(word.lower()) for word in pattern_words]\n",
        "    \n",
        "    # create our bag of words array with 1, if word match found in current pattern\n",
        "    for w in words:\n",
        "        bag.append(1) if w in pattern_words else bag.append(0)\n",
        "    # output is a '0' for each tag and '1' for current tag (for each pattern)\n",
        "    output_row = list(output_empty)\n",
        "    output_row[classes.index(doc[1])] = 1\n",
        "    training.append([bag, output_row])\n",
        "\n",
        "# shuffle features and converting it into numpy arrays\n",
        "random.shuffle(training)\n",
        "training = np.array(training)\n",
        "\n",
        "# create train and test lists\n",
        "train_x = list(training[:,0])\n",
        "train_y = list(training[:,1])\n",
        "\n",
        "print(\"Training data created\")"
      ]
    },
    {
      "cell_type": "markdown",
      "metadata": {
        "id": "cJM2R1NHshlB"
      },
      "source": [
        "### Creating NN Model"
      ]
    },
    {
      "cell_type": "code",
      "execution_count": null,
      "metadata": {
        "colab": {
          "base_uri": "https://localhost:8080/"
        },
        "id": "9VWroJgFshlB",
        "outputId": "2578c179-dcd8-4e4d-d1d1-171a25b084dd"
      },
      "outputs": [
        {
          "output_type": "stream",
          "name": "stdout",
          "text": [
            "Epoch 1/200\n",
            "26/26 [==============================] - 1s 2ms/step - loss: 2.0887 - accuracy: 0.1484\n",
            "Epoch 2/200\n",
            "26/26 [==============================] - 0s 2ms/step - loss: 1.9430 - accuracy: 0.2500\n",
            "Epoch 3/200\n",
            "26/26 [==============================] - 0s 2ms/step - loss: 1.9094 - accuracy: 0.2656\n",
            "Epoch 4/200\n",
            "26/26 [==============================] - 0s 3ms/step - loss: 1.8154 - accuracy: 0.2812\n",
            "Epoch 5/200\n",
            "26/26 [==============================] - 0s 2ms/step - loss: 1.6285 - accuracy: 0.3984\n",
            "Epoch 6/200\n",
            "26/26 [==============================] - 0s 2ms/step - loss: 1.5673 - accuracy: 0.4531\n",
            "Epoch 7/200\n",
            "26/26 [==============================] - 0s 2ms/step - loss: 1.5187 - accuracy: 0.4531\n",
            "Epoch 8/200\n",
            "26/26 [==============================] - 0s 2ms/step - loss: 1.4378 - accuracy: 0.4062\n",
            "Epoch 9/200\n",
            "26/26 [==============================] - 0s 2ms/step - loss: 1.2475 - accuracy: 0.5703\n",
            "Epoch 10/200\n",
            "26/26 [==============================] - 0s 2ms/step - loss: 1.1083 - accuracy: 0.6641\n",
            "Epoch 11/200\n",
            "26/26 [==============================] - 0s 2ms/step - loss: 1.0456 - accuracy: 0.6328\n",
            "Epoch 12/200\n",
            "26/26 [==============================] - 0s 2ms/step - loss: 0.8856 - accuracy: 0.6953\n",
            "Epoch 13/200\n",
            "26/26 [==============================] - 0s 2ms/step - loss: 0.8854 - accuracy: 0.6797\n",
            "Epoch 14/200\n",
            "26/26 [==============================] - 0s 2ms/step - loss: 0.8517 - accuracy: 0.7031\n",
            "Epoch 15/200\n",
            "26/26 [==============================] - 0s 2ms/step - loss: 0.7784 - accuracy: 0.7578\n",
            "Epoch 16/200\n",
            "26/26 [==============================] - 0s 2ms/step - loss: 0.6995 - accuracy: 0.7344\n",
            "Epoch 17/200\n",
            "26/26 [==============================] - 0s 2ms/step - loss: 0.7210 - accuracy: 0.7578\n",
            "Epoch 18/200\n",
            "26/26 [==============================] - 0s 2ms/step - loss: 0.5335 - accuracy: 0.8281\n",
            "Epoch 19/200\n",
            "26/26 [==============================] - 0s 3ms/step - loss: 0.5033 - accuracy: 0.8203\n",
            "Epoch 20/200\n",
            "26/26 [==============================] - 0s 2ms/step - loss: 0.4058 - accuracy: 0.9062\n",
            "Epoch 21/200\n",
            "26/26 [==============================] - 0s 2ms/step - loss: 0.3769 - accuracy: 0.9062\n",
            "Epoch 22/200\n",
            "26/26 [==============================] - 0s 2ms/step - loss: 0.3764 - accuracy: 0.8906\n",
            "Epoch 23/200\n",
            "26/26 [==============================] - 0s 2ms/step - loss: 0.3191 - accuracy: 0.9297\n",
            "Epoch 24/200\n",
            "26/26 [==============================] - 0s 2ms/step - loss: 0.2661 - accuracy: 0.9297\n",
            "Epoch 25/200\n",
            "26/26 [==============================] - 0s 2ms/step - loss: 0.2697 - accuracy: 0.9219\n",
            "Epoch 26/200\n",
            "26/26 [==============================] - 0s 2ms/step - loss: 0.2250 - accuracy: 0.9531\n",
            "Epoch 27/200\n",
            "26/26 [==============================] - 0s 2ms/step - loss: 0.2378 - accuracy: 0.9453\n",
            "Epoch 28/200\n",
            "26/26 [==============================] - 0s 2ms/step - loss: 0.1934 - accuracy: 0.9609\n",
            "Epoch 29/200\n",
            "26/26 [==============================] - 0s 2ms/step - loss: 0.2014 - accuracy: 0.9609\n",
            "Epoch 30/200\n",
            "26/26 [==============================] - 0s 2ms/step - loss: 0.1464 - accuracy: 0.9609\n",
            "Epoch 31/200\n",
            "26/26 [==============================] - 0s 2ms/step - loss: 0.1329 - accuracy: 0.9766\n",
            "Epoch 32/200\n",
            "26/26 [==============================] - 0s 3ms/step - loss: 0.1639 - accuracy: 0.9688\n",
            "Epoch 33/200\n",
            "26/26 [==============================] - 0s 2ms/step - loss: 0.1419 - accuracy: 0.9609\n",
            "Epoch 34/200\n",
            "26/26 [==============================] - 0s 2ms/step - loss: 0.2628 - accuracy: 0.9297\n",
            "Epoch 35/200\n",
            "26/26 [==============================] - 0s 3ms/step - loss: 0.1520 - accuracy: 0.9609\n",
            "Epoch 36/200\n",
            "26/26 [==============================] - 0s 2ms/step - loss: 0.1534 - accuracy: 0.9531\n",
            "Epoch 37/200\n",
            "26/26 [==============================] - 0s 2ms/step - loss: 0.1575 - accuracy: 0.9531\n",
            "Epoch 38/200\n",
            "26/26 [==============================] - 0s 2ms/step - loss: 0.1284 - accuracy: 0.9766\n",
            "Epoch 39/200\n",
            "26/26 [==============================] - 0s 2ms/step - loss: 0.0991 - accuracy: 0.9688\n",
            "Epoch 40/200\n",
            "26/26 [==============================] - 0s 2ms/step - loss: 0.1052 - accuracy: 0.9844\n",
            "Epoch 41/200\n",
            "26/26 [==============================] - 0s 2ms/step - loss: 0.1401 - accuracy: 0.9609\n",
            "Epoch 42/200\n",
            "26/26 [==============================] - 0s 2ms/step - loss: 0.1561 - accuracy: 0.9688\n",
            "Epoch 43/200\n",
            "26/26 [==============================] - 0s 2ms/step - loss: 0.1741 - accuracy: 0.9609\n",
            "Epoch 44/200\n",
            "26/26 [==============================] - 0s 3ms/step - loss: 0.0947 - accuracy: 0.9688\n",
            "Epoch 45/200\n",
            "26/26 [==============================] - 0s 2ms/step - loss: 0.1255 - accuracy: 0.9844\n",
            "Epoch 46/200\n",
            "26/26 [==============================] - 0s 2ms/step - loss: 0.1162 - accuracy: 0.9844\n",
            "Epoch 47/200\n",
            "26/26 [==============================] - 0s 2ms/step - loss: 0.1122 - accuracy: 0.9766\n",
            "Epoch 48/200\n",
            "26/26 [==============================] - 0s 2ms/step - loss: 0.0462 - accuracy: 1.0000\n",
            "Epoch 49/200\n",
            "26/26 [==============================] - 0s 2ms/step - loss: 0.0950 - accuracy: 0.9844\n",
            "Epoch 50/200\n",
            "26/26 [==============================] - 0s 2ms/step - loss: 0.1220 - accuracy: 0.9609\n",
            "Epoch 51/200\n",
            "26/26 [==============================] - 0s 3ms/step - loss: 0.0637 - accuracy: 0.9844\n",
            "Epoch 52/200\n",
            "26/26 [==============================] - 0s 2ms/step - loss: 0.0860 - accuracy: 0.9688\n",
            "Epoch 53/200\n",
            "26/26 [==============================] - 0s 2ms/step - loss: 0.1036 - accuracy: 0.9688\n",
            "Epoch 54/200\n",
            "26/26 [==============================] - 0s 2ms/step - loss: 0.0845 - accuracy: 0.9844\n",
            "Epoch 55/200\n",
            "26/26 [==============================] - 0s 2ms/step - loss: 0.0621 - accuracy: 0.9766\n",
            "Epoch 56/200\n",
            "26/26 [==============================] - 0s 2ms/step - loss: 0.0507 - accuracy: 0.9844\n",
            "Epoch 57/200\n",
            "26/26 [==============================] - 0s 2ms/step - loss: 0.0650 - accuracy: 0.9844\n",
            "Epoch 58/200\n",
            "26/26 [==============================] - 0s 2ms/step - loss: 0.0814 - accuracy: 0.9766\n",
            "Epoch 59/200\n",
            "26/26 [==============================] - 0s 2ms/step - loss: 0.0447 - accuracy: 0.9922\n",
            "Epoch 60/200\n",
            "26/26 [==============================] - 0s 3ms/step - loss: 0.0388 - accuracy: 0.9922\n",
            "Epoch 61/200\n",
            "26/26 [==============================] - 0s 2ms/step - loss: 0.0531 - accuracy: 0.9922\n",
            "Epoch 62/200\n",
            "26/26 [==============================] - 0s 2ms/step - loss: 0.0429 - accuracy: 0.9844\n",
            "Epoch 63/200\n",
            "26/26 [==============================] - 0s 2ms/step - loss: 0.0546 - accuracy: 0.9844\n",
            "Epoch 64/200\n",
            "26/26 [==============================] - 0s 2ms/step - loss: 0.0779 - accuracy: 0.9766\n",
            "Epoch 65/200\n",
            "26/26 [==============================] - 0s 2ms/step - loss: 0.0481 - accuracy: 0.9922\n",
            "Epoch 66/200\n",
            "26/26 [==============================] - 0s 2ms/step - loss: 0.0524 - accuracy: 0.9844\n",
            "Epoch 67/200\n",
            "26/26 [==============================] - 0s 2ms/step - loss: 0.0327 - accuracy: 1.0000\n",
            "Epoch 68/200\n",
            "26/26 [==============================] - 0s 2ms/step - loss: 0.0386 - accuracy: 1.0000\n",
            "Epoch 69/200\n",
            "26/26 [==============================] - 0s 2ms/step - loss: 0.0383 - accuracy: 0.9922\n",
            "Epoch 70/200\n",
            "26/26 [==============================] - 0s 2ms/step - loss: 0.0618 - accuracy: 0.9844\n",
            "Epoch 71/200\n",
            "26/26 [==============================] - 0s 2ms/step - loss: 0.0690 - accuracy: 0.9766\n",
            "Epoch 72/200\n",
            "26/26 [==============================] - 0s 2ms/step - loss: 0.0936 - accuracy: 0.9766\n",
            "Epoch 73/200\n",
            "26/26 [==============================] - 0s 2ms/step - loss: 0.0392 - accuracy: 0.9844\n",
            "Epoch 74/200\n",
            "26/26 [==============================] - 0s 2ms/step - loss: 0.0325 - accuracy: 1.0000\n",
            "Epoch 75/200\n",
            "26/26 [==============================] - 0s 2ms/step - loss: 0.0490 - accuracy: 0.9922\n",
            "Epoch 76/200\n",
            "26/26 [==============================] - 0s 3ms/step - loss: 0.0600 - accuracy: 0.9844\n",
            "Epoch 77/200\n",
            "26/26 [==============================] - 0s 2ms/step - loss: 0.0217 - accuracy: 1.0000\n",
            "Epoch 78/200\n",
            "26/26 [==============================] - 0s 2ms/step - loss: 0.0165 - accuracy: 1.0000\n",
            "Epoch 79/200\n",
            "26/26 [==============================] - 0s 2ms/step - loss: 0.0316 - accuracy: 1.0000\n",
            "Epoch 80/200\n",
            "26/26 [==============================] - 0s 2ms/step - loss: 0.0641 - accuracy: 0.9922\n",
            "Epoch 81/200\n",
            "26/26 [==============================] - 0s 2ms/step - loss: 0.0374 - accuracy: 0.9922\n",
            "Epoch 82/200\n",
            "26/26 [==============================] - 0s 2ms/step - loss: 0.0410 - accuracy: 0.9844\n",
            "Epoch 83/200\n",
            "26/26 [==============================] - 0s 3ms/step - loss: 0.0311 - accuracy: 1.0000\n",
            "Epoch 84/200\n",
            "26/26 [==============================] - 0s 3ms/step - loss: 0.0632 - accuracy: 0.9688\n",
            "Epoch 85/200\n",
            "26/26 [==============================] - 0s 2ms/step - loss: 0.0337 - accuracy: 0.9922\n",
            "Epoch 86/200\n",
            "26/26 [==============================] - 0s 2ms/step - loss: 0.0433 - accuracy: 0.9844\n",
            "Epoch 87/200\n",
            "26/26 [==============================] - 0s 2ms/step - loss: 0.0237 - accuracy: 0.9922\n",
            "Epoch 88/200\n",
            "26/26 [==============================] - 0s 2ms/step - loss: 0.0557 - accuracy: 0.9766\n",
            "Epoch 89/200\n",
            "26/26 [==============================] - 0s 2ms/step - loss: 0.0314 - accuracy: 0.9922\n",
            "Epoch 90/200\n",
            "26/26 [==============================] - 0s 2ms/step - loss: 0.0305 - accuracy: 1.0000\n",
            "Epoch 91/200\n",
            "26/26 [==============================] - 0s 2ms/step - loss: 0.0151 - accuracy: 1.0000\n",
            "Epoch 92/200\n",
            "26/26 [==============================] - 0s 2ms/step - loss: 0.0237 - accuracy: 0.9922\n",
            "Epoch 93/200\n",
            "26/26 [==============================] - 0s 2ms/step - loss: 0.0284 - accuracy: 0.9922\n",
            "Epoch 94/200\n",
            "26/26 [==============================] - 0s 2ms/step - loss: 0.0228 - accuracy: 1.0000\n",
            "Epoch 95/200\n",
            "26/26 [==============================] - 0s 2ms/step - loss: 0.0270 - accuracy: 0.9922\n",
            "Epoch 96/200\n",
            "26/26 [==============================] - 0s 2ms/step - loss: 0.0475 - accuracy: 0.9922\n",
            "Epoch 97/200\n",
            "26/26 [==============================] - 0s 2ms/step - loss: 0.0409 - accuracy: 0.9922\n",
            "Epoch 98/200\n",
            "26/26 [==============================] - 0s 2ms/step - loss: 0.0161 - accuracy: 1.0000\n",
            "Epoch 99/200\n",
            "26/26 [==============================] - 0s 3ms/step - loss: 0.0123 - accuracy: 1.0000\n",
            "Epoch 100/200\n",
            "26/26 [==============================] - 0s 2ms/step - loss: 0.0163 - accuracy: 0.9922\n",
            "Epoch 101/200\n",
            "26/26 [==============================] - 0s 2ms/step - loss: 0.0196 - accuracy: 1.0000\n",
            "Epoch 102/200\n",
            "26/26 [==============================] - 0s 2ms/step - loss: 0.0248 - accuracy: 0.9922\n",
            "Epoch 103/200\n",
            "26/26 [==============================] - 0s 2ms/step - loss: 0.0497 - accuracy: 0.9688\n",
            "Epoch 104/200\n",
            "26/26 [==============================] - 0s 2ms/step - loss: 0.0209 - accuracy: 1.0000\n",
            "Epoch 105/200\n",
            "26/26 [==============================] - 0s 2ms/step - loss: 0.0199 - accuracy: 1.0000\n",
            "Epoch 106/200\n",
            "26/26 [==============================] - 0s 2ms/step - loss: 0.0116 - accuracy: 1.0000\n",
            "Epoch 107/200\n",
            "26/26 [==============================] - 0s 3ms/step - loss: 0.0283 - accuracy: 0.9922\n",
            "Epoch 108/200\n",
            "26/26 [==============================] - 0s 2ms/step - loss: 0.0108 - accuracy: 1.0000\n",
            "Epoch 109/200\n",
            "26/26 [==============================] - 0s 2ms/step - loss: 0.0350 - accuracy: 0.9922\n",
            "Epoch 110/200\n",
            "26/26 [==============================] - 0s 2ms/step - loss: 0.0306 - accuracy: 0.9844\n",
            "Epoch 111/200\n",
            "26/26 [==============================] - 0s 2ms/step - loss: 0.0466 - accuracy: 0.9766\n",
            "Epoch 112/200\n",
            "26/26 [==============================] - 0s 3ms/step - loss: 0.0459 - accuracy: 0.9922\n",
            "Epoch 113/200\n",
            "26/26 [==============================] - 0s 2ms/step - loss: 0.0137 - accuracy: 1.0000\n",
            "Epoch 114/200\n",
            "26/26 [==============================] - 0s 2ms/step - loss: 0.0324 - accuracy: 0.9922\n",
            "Epoch 115/200\n",
            "26/26 [==============================] - 0s 3ms/step - loss: 0.0166 - accuracy: 1.0000\n",
            "Epoch 116/200\n",
            "26/26 [==============================] - 0s 2ms/step - loss: 0.0207 - accuracy: 0.9922\n",
            "Epoch 117/200\n",
            "26/26 [==============================] - 0s 2ms/step - loss: 0.0048 - accuracy: 1.0000\n",
            "Epoch 118/200\n",
            "26/26 [==============================] - 0s 2ms/step - loss: 0.0066 - accuracy: 1.0000\n",
            "Epoch 119/200\n",
            "26/26 [==============================] - 0s 2ms/step - loss: 0.0239 - accuracy: 0.9922\n",
            "Epoch 120/200\n",
            "26/26 [==============================] - 0s 2ms/step - loss: 0.0171 - accuracy: 1.0000\n",
            "Epoch 121/200\n",
            "26/26 [==============================] - 0s 2ms/step - loss: 0.0245 - accuracy: 0.9922\n",
            "Epoch 122/200\n",
            "26/26 [==============================] - 0s 2ms/step - loss: 0.0142 - accuracy: 1.0000\n",
            "Epoch 123/200\n",
            "26/26 [==============================] - 0s 2ms/step - loss: 0.0163 - accuracy: 1.0000\n",
            "Epoch 124/200\n",
            "26/26 [==============================] - 0s 2ms/step - loss: 0.0158 - accuracy: 0.9922\n",
            "Epoch 125/200\n",
            "26/26 [==============================] - 0s 2ms/step - loss: 0.0046 - accuracy: 1.0000\n",
            "Epoch 126/200\n",
            "26/26 [==============================] - 0s 2ms/step - loss: 0.0183 - accuracy: 1.0000\n",
            "Epoch 127/200\n",
            "26/26 [==============================] - 0s 2ms/step - loss: 0.0373 - accuracy: 0.9766\n",
            "Epoch 128/200\n",
            "26/26 [==============================] - 0s 2ms/step - loss: 0.0244 - accuracy: 0.9922\n",
            "Epoch 129/200\n",
            "26/26 [==============================] - 0s 2ms/step - loss: 0.0491 - accuracy: 0.9844\n",
            "Epoch 130/200\n",
            "26/26 [==============================] - 0s 2ms/step - loss: 0.0316 - accuracy: 0.9844\n",
            "Epoch 131/200\n",
            "26/26 [==============================] - 0s 2ms/step - loss: 0.0650 - accuracy: 0.9766\n",
            "Epoch 132/200\n",
            "26/26 [==============================] - 0s 2ms/step - loss: 0.0479 - accuracy: 0.9844\n",
            "Epoch 133/200\n",
            "26/26 [==============================] - 0s 2ms/step - loss: 0.0619 - accuracy: 0.9688\n",
            "Epoch 134/200\n",
            "26/26 [==============================] - 0s 2ms/step - loss: 0.0279 - accuracy: 1.0000\n",
            "Epoch 135/200\n",
            "26/26 [==============================] - 0s 2ms/step - loss: 0.0695 - accuracy: 0.9766\n",
            "Epoch 136/200\n",
            "26/26 [==============================] - 0s 2ms/step - loss: 0.0204 - accuracy: 1.0000\n",
            "Epoch 137/200\n",
            "26/26 [==============================] - 0s 2ms/step - loss: 0.0235 - accuracy: 1.0000\n",
            "Epoch 138/200\n",
            "26/26 [==============================] - 0s 2ms/step - loss: 0.0361 - accuracy: 0.9844\n",
            "Epoch 139/200\n",
            "26/26 [==============================] - 0s 2ms/step - loss: 0.0154 - accuracy: 1.0000\n",
            "Epoch 140/200\n",
            "26/26 [==============================] - 0s 2ms/step - loss: 0.0428 - accuracy: 0.9766\n",
            "Epoch 141/200\n",
            "26/26 [==============================] - 0s 2ms/step - loss: 0.0152 - accuracy: 1.0000\n",
            "Epoch 142/200\n",
            "26/26 [==============================] - 0s 2ms/step - loss: 0.0114 - accuracy: 1.0000\n",
            "Epoch 143/200\n",
            "26/26 [==============================] - 0s 2ms/step - loss: 0.0224 - accuracy: 0.9922\n",
            "Epoch 144/200\n",
            "26/26 [==============================] - 0s 2ms/step - loss: 0.0122 - accuracy: 1.0000\n",
            "Epoch 145/200\n",
            "26/26 [==============================] - 0s 2ms/step - loss: 0.0155 - accuracy: 1.0000\n",
            "Epoch 146/200\n",
            "26/26 [==============================] - 0s 2ms/step - loss: 0.0050 - accuracy: 1.0000\n",
            "Epoch 147/200\n",
            "26/26 [==============================] - 0s 2ms/step - loss: 0.0218 - accuracy: 0.9922\n",
            "Epoch 148/200\n",
            "26/26 [==============================] - 0s 3ms/step - loss: 0.0182 - accuracy: 1.0000\n",
            "Epoch 149/200\n",
            "26/26 [==============================] - 0s 2ms/step - loss: 0.0055 - accuracy: 1.0000\n",
            "Epoch 150/200\n",
            "26/26 [==============================] - 0s 2ms/step - loss: 0.0282 - accuracy: 0.9844\n",
            "Epoch 151/200\n",
            "26/26 [==============================] - 0s 2ms/step - loss: 0.0087 - accuracy: 1.0000\n",
            "Epoch 152/200\n",
            "26/26 [==============================] - 0s 2ms/step - loss: 0.0105 - accuracy: 1.0000\n",
            "Epoch 153/200\n",
            "26/26 [==============================] - 0s 2ms/step - loss: 0.0084 - accuracy: 1.0000\n",
            "Epoch 154/200\n",
            "26/26 [==============================] - 0s 2ms/step - loss: 0.0581 - accuracy: 0.9766\n",
            "Epoch 155/200\n",
            "26/26 [==============================] - 0s 2ms/step - loss: 0.0126 - accuracy: 1.0000\n",
            "Epoch 156/200\n",
            "26/26 [==============================] - 0s 2ms/step - loss: 0.0082 - accuracy: 1.0000\n",
            "Epoch 157/200\n",
            "26/26 [==============================] - 0s 2ms/step - loss: 0.0046 - accuracy: 1.0000\n",
            "Epoch 158/200\n",
            "26/26 [==============================] - 0s 2ms/step - loss: 0.0264 - accuracy: 0.9922\n",
            "Epoch 159/200\n",
            "26/26 [==============================] - 0s 2ms/step - loss: 0.0259 - accuracy: 0.9922\n",
            "Epoch 160/200\n",
            "26/26 [==============================] - 0s 2ms/step - loss: 0.0070 - accuracy: 1.0000\n",
            "Epoch 161/200\n",
            "26/26 [==============================] - 0s 2ms/step - loss: 0.0275 - accuracy: 0.9922\n",
            "Epoch 162/200\n",
            "26/26 [==============================] - 0s 2ms/step - loss: 0.0148 - accuracy: 1.0000\n",
            "Epoch 163/200\n",
            "26/26 [==============================] - 0s 2ms/step - loss: 0.0200 - accuracy: 1.0000\n",
            "Epoch 164/200\n",
            "26/26 [==============================] - 0s 2ms/step - loss: 0.0101 - accuracy: 1.0000\n",
            "Epoch 165/200\n",
            "26/26 [==============================] - 0s 2ms/step - loss: 0.0203 - accuracy: 0.9922\n",
            "Epoch 166/200\n",
            "26/26 [==============================] - 0s 2ms/step - loss: 0.0127 - accuracy: 1.0000\n",
            "Epoch 167/200\n",
            "26/26 [==============================] - 0s 2ms/step - loss: 0.0058 - accuracy: 1.0000\n",
            "Epoch 168/200\n",
            "26/26 [==============================] - 0s 2ms/step - loss: 0.0114 - accuracy: 1.0000\n",
            "Epoch 169/200\n",
            "26/26 [==============================] - 0s 2ms/step - loss: 0.0040 - accuracy: 1.0000\n",
            "Epoch 170/200\n",
            "26/26 [==============================] - 0s 2ms/step - loss: 0.0290 - accuracy: 0.9844\n",
            "Epoch 171/200\n",
            "26/26 [==============================] - 0s 2ms/step - loss: 0.0188 - accuracy: 1.0000\n",
            "Epoch 172/200\n",
            "26/26 [==============================] - 0s 2ms/step - loss: 0.0123 - accuracy: 1.0000\n",
            "Epoch 173/200\n",
            "26/26 [==============================] - 0s 2ms/step - loss: 0.0077 - accuracy: 1.0000\n",
            "Epoch 174/200\n",
            "26/26 [==============================] - 0s 2ms/step - loss: 0.0142 - accuracy: 1.0000\n",
            "Epoch 175/200\n",
            "26/26 [==============================] - 0s 2ms/step - loss: 0.0205 - accuracy: 0.9922\n",
            "Epoch 176/200\n",
            "26/26 [==============================] - 0s 2ms/step - loss: 0.0037 - accuracy: 1.0000\n",
            "Epoch 177/200\n",
            "26/26 [==============================] - 0s 2ms/step - loss: 0.0096 - accuracy: 1.0000\n",
            "Epoch 178/200\n",
            "26/26 [==============================] - 0s 2ms/step - loss: 0.0223 - accuracy: 0.9922\n",
            "Epoch 179/200\n",
            "26/26 [==============================] - 0s 3ms/step - loss: 0.0149 - accuracy: 0.9922\n",
            "Epoch 180/200\n",
            "26/26 [==============================] - 0s 2ms/step - loss: 0.0066 - accuracy: 1.0000\n",
            "Epoch 181/200\n",
            "26/26 [==============================] - 0s 3ms/step - loss: 0.0206 - accuracy: 1.0000\n",
            "Epoch 182/200\n",
            "26/26 [==============================] - 0s 3ms/step - loss: 0.0167 - accuracy: 0.9922\n",
            "Epoch 183/200\n",
            "26/26 [==============================] - 0s 2ms/step - loss: 0.0098 - accuracy: 0.9922\n",
            "Epoch 184/200\n",
            "26/26 [==============================] - 0s 2ms/step - loss: 0.0166 - accuracy: 1.0000\n",
            "Epoch 185/200\n",
            "26/26 [==============================] - 0s 2ms/step - loss: 0.0171 - accuracy: 0.9922\n",
            "Epoch 186/200\n",
            "26/26 [==============================] - 0s 2ms/step - loss: 0.0061 - accuracy: 1.0000\n",
            "Epoch 187/200\n",
            "26/26 [==============================] - 0s 2ms/step - loss: 0.0340 - accuracy: 0.9922\n",
            "Epoch 188/200\n",
            "26/26 [==============================] - 0s 6ms/step - loss: 0.0221 - accuracy: 0.9844\n",
            "Epoch 189/200\n",
            "26/26 [==============================] - 0s 2ms/step - loss: 0.0132 - accuracy: 1.0000\n",
            "Epoch 190/200\n",
            "26/26 [==============================] - 0s 2ms/step - loss: 0.0201 - accuracy: 0.9922\n",
            "Epoch 191/200\n",
            "26/26 [==============================] - 0s 2ms/step - loss: 0.0261 - accuracy: 0.9922\n",
            "Epoch 192/200\n",
            "26/26 [==============================] - 0s 2ms/step - loss: 0.0222 - accuracy: 0.9922\n",
            "Epoch 193/200\n",
            "26/26 [==============================] - 0s 2ms/step - loss: 0.0226 - accuracy: 0.9922\n",
            "Epoch 194/200\n",
            "26/26 [==============================] - 0s 2ms/step - loss: 0.0112 - accuracy: 1.0000\n",
            "Epoch 195/200\n",
            "26/26 [==============================] - 0s 3ms/step - loss: 0.0178 - accuracy: 1.0000\n",
            "Epoch 196/200\n",
            "26/26 [==============================] - 0s 2ms/step - loss: 0.0135 - accuracy: 0.9922\n",
            "Epoch 197/200\n",
            "26/26 [==============================] - 0s 3ms/step - loss: 0.0202 - accuracy: 0.9922\n",
            "Epoch 198/200\n",
            "26/26 [==============================] - 0s 4ms/step - loss: 0.0060 - accuracy: 1.0000\n",
            "Epoch 199/200\n",
            "26/26 [==============================] - 0s 2ms/step - loss: 0.0098 - accuracy: 1.0000\n",
            "Epoch 200/200\n",
            "26/26 [==============================] - 0s 2ms/step - loss: 0.0073 - accuracy: 1.0000\n",
            "\n",
            "\n",
            "**************************************************\n",
            "\n",
            "Model Created Successfully!\n"
          ]
        }
      ],
      "source": [
        "# Create NN model to predict the responses\n",
        "model = Sequential()\n",
        "model.add(Dense(128, input_shape=(len(train_x[0]),), activation='relu'))\n",
        "model.add(Dropout(0.5))\n",
        "model.add(Dense(64, activation='relu'))\n",
        "model.add(Dropout(0.5))\n",
        "model.add(Dense(len(train_y[0]), activation='softmax'))\n",
        "\n",
        "# Compile model. Stochastic gradient descent with Nesterov accelerated gradient gives good results for this model\n",
        "sgd = SGD(learning_rate=0.01, decay=1e-6, momentum=0.9, nesterov=True)\n",
        "model.compile(loss='categorical_crossentropy', optimizer=sgd, metrics=['accuracy'])\n",
        "\n",
        "#fitting and saving the model \n",
        "hist = model.fit(np.array(train_x), np.array(train_y), epochs=200, batch_size=5, verbose=1)\n",
        "model.save('chatbot.h5', hist) # we will pickle this model to use in the future\n",
        "print(\"\\n\")\n",
        "print(\"*\"*50)\n",
        "print(\"\\nModel Created Successfully!\")"
      ]
    },
    {
      "cell_type": "raw",
      "metadata": {
        "id": "JZx_lgMjshlC"
      },
      "source": [
        "The accuracy of the model is 99.22 % which is quite impressive.\n",
        "\n",
        "In the further steps, we will import all the libraries and Train_Bot json data and use the pickled model for the prediction of responses."
      ]
    },
    {
      "cell_type": "markdown",
      "metadata": {
        "id": "SQdaRQkWshlC"
      },
      "source": [
        "### Repeating all the above steps and using the pickled model for the prediction of responses"
      ]
    },
    {
      "cell_type": "code",
      "execution_count": null,
      "metadata": {
        "id": "xZMwR2FUshlC"
      },
      "outputs": [],
      "source": [
        "# load the saved model file\n",
        "model = load_model('chatbot.h5')\n",
        "intents = json.loads(open(\"Train_Bot.json\").read())\n",
        "words = pickle.load(open('words.pkl','rb'))\n",
        "classes = pickle.load(open('classes.pkl','rb'))"
      ]
    },
    {
      "cell_type": "code",
      "execution_count": null,
      "metadata": {
        "id": "C8ctzYIUshlC"
      },
      "outputs": [],
      "source": [
        "def clean_up_sentence(sentence):\n",
        "\n",
        "    # tokenize the pattern - split words into array\n",
        "    sentence_words = nltk.word_tokenize(sentence)\n",
        "    \n",
        "    # stem each word - create short form for word\n",
        "    sentence_words = [lemmatizer.lemmatize(word.lower()) for word in sentence_words]\n",
        "    return sentence_words\n",
        "\n",
        "\n",
        "# return bag of words array: 0 or 1 for each word in the bag that exists in the sentence\n",
        "\n",
        "def bow(sentence, words, show_details=True):\n",
        "\n",
        "    # tokenize the pattern\n",
        "    sentence_words = clean_up_sentence(sentence)\n",
        "\n",
        "    # bag of words - matrix of N words, vocabulary matrix\n",
        "    bag = [0]*len(words) \n",
        "    for s in sentence_words:\n",
        "        for i,w in enumerate(words):\n",
        "            if w == s: \n",
        "               \n",
        "                # assign 1 if current word is in the vocabulary position\n",
        "                bag[i] = 1\n",
        "                if show_details:\n",
        "                    print (\"found in bag: %s\" % w)\n",
        "    return(np.array(bag))\n",
        "\n",
        "def predict_class(sentence, model):\n",
        "   \n",
        "    # filter out predictions below a threshold\n",
        "    p = bow(sentence, words,show_details=False)\n",
        "    res = model.predict(np.array([p]))[0]\n",
        "    error = 0.25\n",
        "    results = [[i,r] for i,r in enumerate(res) if r>error]\n",
        "    \n",
        "    # sort by strength of probability\n",
        "    results.sort(key=lambda x: x[1], reverse=True)\n",
        "    return_list = []\n",
        "    \n",
        "    for r in results:\n",
        "        return_list.append({\"intent\": classes[r[0]], \"probability\": str(r[1])})\n",
        "    return return_list"
      ]
    },
    {
      "cell_type": "code",
      "execution_count": null,
      "metadata": {
        "id": "Euh-vcN1shlD"
      },
      "outputs": [],
      "source": [
        "# function to get the response from the model\n",
        "\n",
        "def getResponse(ints, intents_json):\n",
        "    tag = ints[0]['intent']\n",
        "    list_of_intents = intents_json['intents']\n",
        "    for i in list_of_intents:\n",
        "        if(i['tag']== tag):\n",
        "            result = random.choice(i['responses'])\n",
        "            break\n",
        "    return result\n",
        "\n",
        "# function to predict the class and get the response\n",
        "\n",
        "def chatbot_response(text):\n",
        "    ints = predict_class(text, model)\n",
        "    res = getResponse(ints, intents)\n",
        "    return res"
      ]
    },
    {
      "cell_type": "code",
      "execution_count": null,
      "metadata": {
        "id": "0L7Xq1Z4shlD"
      },
      "outputs": [],
      "source": [
        "# function to start the chat bot which will continue till the user type 'end'\n",
        "\n",
        "def start_chat():\n",
        "    print(\"Bot: This is Sophie! Your Personal Assistant.\\n\\n\")\n",
        "    while True:\n",
        "        inp = str(input()).lower()\n",
        "        if inp.lower()==\"end\":\n",
        "            break\n",
        "        if inp.lower()== '' or inp.lower()== '*':\n",
        "            print('Please re-phrase your query!')\n",
        "            print(\"-\"*50)\n",
        "        else:\n",
        "            print(f\"Bot: {chatbot_response(inp)}\"+'\\n')\n",
        "            print(\"-\"*50)"
      ]
    },
    {
      "cell_type": "markdown",
      "metadata": {
        "id": "obm5NUt9shlD"
      },
      "source": [
        "## Chatting with BOT using the Command Line Option"
      ]
    },
    {
      "cell_type": "code",
      "execution_count": null,
      "metadata": {
        "colab": {
          "base_uri": "https://localhost:8080/"
        },
        "id": "4U0yon_pshlD",
        "outputId": "132fcfcc-3bf8-4b14-9d3f-81ecbe488f84"
      },
      "outputs": [
        {
          "name": "stdout",
          "output_type": "stream",
          "text": [
            "Bot: This is Sophie! Your Personal Assistant.\n",
            "\n",
            "\n",
            "hello\n",
            "Bot: Hello! how can i help you ?\n",
            "\n",
            "--------------------------------------------------\n",
            "what is your name?\n",
            "Bot: I am your virtual learning assistant\n",
            "\n",
            "--------------------------------------------------\n",
            "end\n"
          ]
        }
      ],
      "source": [
        "# start the chat bot\n",
        "start_chat()"
      ]
    },
    {
      "cell_type": "markdown",
      "metadata": {
        "id": "zcbbmSC-shlD"
      },
      "source": [
        "## Chatting with BOT using the Tkinter App\n",
        "\n",
        "#### **For running the Tkinter GUI you have to download this notebook in ipynb format and run using jupyter notebook in your local machine/pc because in google colab, you cannot run Tkinter apps.**"
      ]
    },
    {
      "cell_type": "code",
      "source": [
        "import random\n",
        "import tkinter as tk\n",
        "from tkinter import *\n",
        "\n",
        "root=tk.Tk()\n",
        "filename=\"Chat Bot\"\n",
        "root.title(f\"Chat Bot\")\n",
        "root.geometry('500x400')\n",
        "root.resizable(False, False)\n",
        "message=tk.StringVar()\n",
        "\n",
        "chat_win=Frame(root,bd=1,bg='white',width=50,height=8)\n",
        "chat_win.place(x=6,y=6,height=300,width=488)\n",
        "\n",
        "textcon=tk.Text(chat_win,bd=1,bg='white',width=50,height=8)\n",
        "textcon.pack(fill=\"both\",expand=True)\n",
        "\n",
        "mes_win=Entry(root,width=30,xscrollcommand=True,textvariable=message)\n",
        "mes_win.place(x=6,y=310,height=60,width=380)\n",
        "mes_win.focus()\n",
        "\n",
        "textcon.config(fg='black')\n",
        "textcon.tag_config('usr',foreground='black')\n",
        "textcon.insert(END,\"Bot: This is Sophie! Your Personal Assistant.\\n\\n\")\n",
        "mssg=mes_win.get()\n",
        "\n",
        "exit_list = ['exit','break','quit','see you later','chat with you later','end the chat','bye','ok bye']\n",
        "\n",
        "def greet_res(text):\n",
        "    text=text.lower()\n",
        "    bot_greet=['hi','hello','hola','hey','howdy']\n",
        "    usr_greet=['hi','hey','hello','hola','greetings','wassup','whats up']\n",
        "    for word in text.split():\n",
        "        if word in usr_greet:\n",
        "            return random.choice(bot_greet)\n",
        "\n",
        "def send_msz(event=None):\n",
        "    usr_input = message.get()\n",
        "    usr_input = usr_input.lower()\n",
        "    textcon.insert(END, f'You: {usr_input}'+'\\n','usr')\n",
        "    if usr_input in exit_list:\n",
        "        textcon.config(fg='black')\n",
        "        textcon.insert(END,\"Bot: Ok bye! Chat with you later\\n\")\n",
        "        return root.destroy()\n",
        "    else:\n",
        "        textcon.config(fg='black')\n",
        "        if greet_res(usr_input) != None:\n",
        "            lab=f\"Bot: {greet_res(usr_input)}\"+'\\n'\n",
        "            textcon.insert(END,lab)\n",
        "            mes_win.delete(0,END)\n",
        "        else:\n",
        "            lab = f\"Bot: {chatbot_response(usr_input)}\"+'\\n'\n",
        "            textcon.insert(END,lab)\n",
        "            mes_win.delete(0,END)\n",
        "\n",
        "button_send=Button(root,text='Send',bg='dark green',activebackground='grey',command=send_msz,width=12,height=5,font=('Arial'))\n",
        "button_send.place(x=376,y=310,height=60,width=110)\n",
        "root.bind('<Return>', send_msz,button_send)\n",
        "root.mainloop()"
      ],
      "metadata": {
        "id": "jyGf64qDuJwu"
      },
      "execution_count": null,
      "outputs": []
    },
    {
      "cell_type": "markdown",
      "metadata": {
        "id": "yhJ_PlIhshlE"
      },
      "source": [
        "### END"
      ]
    }
  ],
  "metadata": {
    "kernelspec": {
      "display_name": "Python 3",
      "language": "python",
      "name": "python3"
    },
    "language_info": {
      "codemirror_mode": {
        "name": "ipython",
        "version": 3
      },
      "file_extension": ".py",
      "mimetype": "text/x-python",
      "name": "python",
      "nbconvert_exporter": "python",
      "pygments_lexer": "ipython3",
      "version": "3.8.8"
    },
    "colab": {
      "provenance": [],
      "collapsed_sections": [],
      "include_colab_link": true
    }
  },
  "nbformat": 4,
  "nbformat_minor": 0
}